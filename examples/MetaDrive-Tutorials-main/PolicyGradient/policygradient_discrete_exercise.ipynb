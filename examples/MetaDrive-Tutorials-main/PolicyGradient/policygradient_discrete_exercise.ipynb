{
 "cells": [
  {
   "attachments": {},
   "cell_type": "markdown",
   "metadata": {},
   "source": [
    "# Metadrive Intro\n",
    "\n",
    "We now introduce the environment we will be using for this notebook: [Metadrive](https://github.com/metadriverse/metadrive)\n",
    "\n",
    "Check out the notebook [here](../quickstart.ipynb) for a quick introduction to Metadrive as well as how to install it."
   ]
  },
  {
   "attachments": {},
   "cell_type": "markdown",
   "metadata": {},
   "source": [
    "Let's get started by doing a bunch of imports."
   ]
  },
  {
   "cell_type": "code",
   "execution_count": 6,
   "metadata": {},
   "outputs": [],
   "source": [
    "import gymnasium as gym\n",
    "import typing\n",
    "import numpy as np\n",
    "import numpy.typing as npt\n",
    "import torch\n",
    "import torch.nn as nn\n",
    "import torch.nn.functional as F\n",
    "from dataclasses import dataclass"
   ]
  },
  {
   "attachments": {},
   "cell_type": "markdown",
   "metadata": {},
   "source": [
    "We're going to be using MetaDrive's top-down view for this notebook, so we'll import that and register it."
   ]
  },
  {
   "cell_type": "code",
   "execution_count": 7,
   "metadata": {},
   "outputs": [
    {
     "name": "stderr",
     "output_type": "stream",
     "text": [
      "/home/fidgetsinner/venvs/metadrive/lib/python3.11/site-packages/gymnasium/envs/registration.py:693: UserWarning: WARN: Overriding environment MetaDrive-topdown already in registry.\n",
      "  logger.warn(f\"Overriding environment {new_spec.id} already in registry.\")\n"
     ]
    }
   ],
   "source": [
    "from metadrive.envs.top_down_env import TopDownMetaDrive\n",
    "gym.register(id=\"MetaDrive-topdown\", entry_point=TopDownMetaDrive, kwargs=dict(config={}))"
   ]
  },
  {
   "attachments": {},
   "cell_type": "markdown",
   "metadata": {},
   "source": [
    "Let's test out the environment by creating an instance of it and taking a random action at each timestep."
   ]
  },
  {
   "cell_type": "code",
   "execution_count": 9,
   "metadata": {},
   "outputs": [
    {
     "name": "stderr",
     "output_type": "stream",
     "text": [
      "Known pipe types:\n",
      "  glxGraphicsPipe\n",
      "(1 aux display modules not yet loaded.)\n",
      ":task(warning): Creating implicit AsyncTaskChain default for AsyncTaskManager TaskManager\n",
      "INFO:/home/fidgetsinner/myworkspace/metadrive/metadrive/envs/base_env.py:Episode ended! Index: 0 Reason: max step \n"
     ]
    }
   ],
   "source": [
    "# horizon represents the number of steps in an episode before truncation\n",
    "env = gym.make(\"MetaDrive-topdown\", config={\"use_render\": True, \"horizon\": 100})\n",
    "env.reset()\n",
    "while True:\n",
    "    obs, reward, terminated, truncated, info = env.step(env.action_space.sample())\n",
    "    if terminated or truncated:\n",
    "        break\n",
    "env.close()"
   ]
  },
  {
   "attachments": {},
   "cell_type": "markdown",
   "metadata": {},
   "source": [
    "## Gymnasium Environment"
   ]
  },
  {
   "attachments": {},
   "cell_type": "markdown",
   "metadata": {},
   "source": [
    "Metadrive uses the [Farama Gymnasium](https://gymnasium.farama.org/), which has a standard API for interacting with environments. There are a couple of functions and properties that are good to know about:\n",
    "1. `reset()`: Resets the environment to its initial state and returns the initial observation.\n",
    "    * Documentation: https://gymnasium.farama.org/api/env/#gymnasium.Env.reset\n",
    "2. `step(action)`: Takes an action and returns the next observation, the reward for taking the action, whether the episode is terminated, whether the episode is truncated (ran out of time), and any additional information.\n",
    "    * Documentation: https://gymnasium.farama.org/api/env/#gymnasium.Env.step\n",
    "3. `close()`: Closes the environment.\n",
    "    * Documentation: https://gymnasium.farama.org/api/env/#g1ymnasium.Env.close\n",
    "4. `action_space`: The action space of the environment, which tells us the shape and bounds of the action space.\n",
    "    * Documentation: https://gymnasium.farama.org/api/env/#gymnasium.Env.action_space\n",
    "5. `observation_space`: The observation space of the environment, which tells us the shape and bounds of the observation space.\n",
    "    * Documentation: https://gymnasium.farama.org/api/env/#gymnasium.Env.observation_space"
   ]
  },
  {
   "attachments": {},
   "cell_type": "markdown",
   "metadata": {},
   "source": [
    "Let's take a closer look at what our observation and action spaces are:"
   ]
  },
  {
   "cell_type": "code",
   "execution_count": 4,
   "metadata": {},
   "outputs": [
    {
     "name": "stdout",
     "output_type": "stream",
     "text": [
      "Observation Space: Box(-0.0, 1.0, (84, 84, 5), float32)\n",
      "Action Space: Box(-1.0, 1.0, (2,), float32)\n"
     ]
    }
   ],
   "source": [
    "env = gym.make(\"MetaDrive-topdown\", config={\"use_render\": False, \"horizon\": 100})\n",
    "print(\"Observation Space:\", env.observation_space)\n",
    "print(\"Action Space:\", env.action_space)\n",
    "env.close()"
   ]
  },
  {
   "attachments": {},
   "cell_type": "markdown",
   "metadata": {},
   "source": [
    "Box spaces represent a continuous space. As the documentation states, a Box represents the Cartesian product of $n$ closed intervals.\n",
    "\n",
    "For our observation space, we have a 84 by 84 pixel image with 5 channels, where each element is in the range $[0.0, 1.0]$.\n",
    "* Documentation: https://metadrive-simulator.readthedocs.io/en/latest/observation.html\n",
    "\n",
    "For the action space, we have a 2 dimensional vector, where each element is in the range $[-1.0, 1.0]$. The first element represents the steering angle, and the second element represents the throttle.\n",
    "* Documentation: https://metadrive-simulator.readthedocs.io/en/latest/action_and_dynamics.html\n"
   ]
  },
  {
   "attachments": {},
   "cell_type": "markdown",
   "metadata": {},
   "source": [
    "# Implementation\n",
    "\n",
    "Now that we've seen what the environment looks like, let's implement REINFORCE.\n",
    "\n",
    "The REINFORCE algorithm is as follows:\n",
    "1. Initialize the policy parameters $\\theta$.\n",
    "2. Create an initially empty set of trajectories $D$.\n",
    "3. Create a trajectory $\\tau = (s_1, a_1, r_1, \\ldots, s_T, a_T, r_T)$ by running the policy $\\pi_\\theta$ in the environment and append it to $D$.\n",
    "4. Compute the return $\\hat{R}_t$ for each timestep $t$ in the trajectory.\n",
    "5. Repeat steps 2-4 until $|D| = N$.\n",
    "6. Compute the policy gradient estimate $\\hat{g} = \\frac{1}{N} \\sum_{i=1}^N \\sum_{t=1}^{T_i} \\nabla_\\theta \\log \\pi_\\theta(a_{i,t} | s_{i,t}) \\hat{R}_t$.\n",
    "7. Update the policy parameters $\\theta \\leftarrow \\theta + \\alpha \\hat{g}$.\n",
    "8. Repeat steps 2-7 until the policy converges.\n",
    "\n",
    "All things considered, this is a pretty simple algorithm. Let's implement it!"
   ]
  },
  {
   "attachments": {},
   "cell_type": "markdown",
   "metadata": {},
   "source": [
    "## Discretization"
   ]
  },
  {
   "attachments": {},
   "cell_type": "markdown",
   "metadata": {},
   "source": [
    "There's one problem you might see here: we previously stated that we were focusing on the discrete case. This means our policy will produce discrete actions. However, our action space seems to be continuous.\n",
    "\n",
    "How can we solve this problem?\n",
    "\n",
    "Our solution is going to be to **discretize** our action space. This means that we will provide a finite number of actions, and each action corresponds to a fixed vector of real numbers.\n",
    "\n",
    "We will discretize the steering angle into 2 bins, and the throttle into 2 bins. This will give us a total of 4 actions. We'll write a function to convert our discrete action into a continuous action, which we can provide to the environment."
   ]
  },
  {
   "cell_type": "code",
   "execution_count": 12,
   "metadata": {},
   "outputs": [],
   "source": [
    "NUM_ACTIONS = 5\n",
    "\n",
    "def discrete2continuous(action:int) -> npt.NDArray[np.float32]:\n",
    "    \"\"\"\n",
    "    Convert discrete action to continuous action\n",
    "    \"\"\"\n",
    "    assert 0 <= action < NUM_ACTIONS\n",
    "    throttle_magnitude = 1.0\n",
    "    brake_magnitude = 1.0\n",
    "    steering_magnitude = 1.0\n",
    "    match action:\n",
    "        case 0:\n",
    "            return np.array([steering_magnitude, 0.0])\n",
    "        case 1:\n",
    "            return np.array([0.0, throttle_magnitude])\n",
    "        case 2:\n",
    "            return np.array([0.0, -brake_magnitude])\n",
    "        case 3:\n",
    "            return np.array([-steering_magnitude, 0.0])\n",
    "        case 4:\n",
    "            return np.array([0.0, 0.0])\n"
   ]
  },
  {
   "attachments": {},
   "cell_type": "markdown",
   "metadata": {},
   "source": [
    "## Collecting Trajectories"
   ]
  },
  {
   "attachments": {},
   "cell_type": "markdown",
   "metadata": {},
   "source": [
    "With this discretization function, we can write a function to collect a trajectory given a policy."
   ]
  },
  {
   "cell_type": "code",
   "execution_count": 11,
   "metadata": {},
   "outputs": [],
   "source": [
    "def collect_trajectory(env:gym.Env, policy:typing.Callable[[npt.NDArray], int]) -> tuple[list[npt.NDArray], list[int], list[float]]:\n",
    "    \"\"\"\n",
    "    Collect a trajectory from the environment using the given policy\n",
    "    \"\"\"\n",
    "    observations = []\n",
    "    actions = []\n",
    "    rewards = []\n",
    "    obs, info = env.reset()\n",
    "    \n",
    "    while True:\n",
    "        observations.append(obs)\n",
    "        action = policy(obs)\n",
    "        actions.append(action)\n",
    "        obs, reward, terminated, truncated, info = env.step(discrete2continuous(action))\n",
    "        rewards.append(reward)\n",
    "        if terminated or truncated:\n",
    "            break\n",
    "\n",
    "    return observations, actions, rewards"
   ]
  },
  {
   "attachments": {},
   "cell_type": "markdown",
   "metadata": {},
   "source": [
    "Note that we define a policy as any function that takes in an observation and returns an action. This means that we can be more general than just using a neural net as a policy.\n",
    "For example, let's first test out our `collect_trajectory` function with a random policy:"
   ]
  },
  {
   "cell_type": "code",
   "execution_count": 13,
   "metadata": {},
   "outputs": [
    {
     "name": "stderr",
     "output_type": "stream",
     "text": [
      ":task(warning): Creating implicit AsyncTaskChain default for AsyncTaskManager TaskManager\n",
      "INFO:/home/fidgetsinner/myworkspace/metadrive/metadrive/envs/base_env.py:Episode ended! Index: 0 Reason: max step \n"
     ]
    },
    {
     "name": "stdout",
     "output_type": "stream",
     "text": [
      "Actions: [1, 0, 1, 0, 2, 0, 4, 3, 1, 1]\n",
      "Rewards: [0.0002485517263412476, 0.003777462642728572, 0.013420774176964221, 0.02909287183133027, 0.006593909463546951, -0.010728848998074313, -0.009734169748365605, -0.005691646270093323, 0.00582868244940761, 0.033758088482578406]\n"
     ]
    }
   ],
   "source": [
    "env = gym.make(\"MetaDrive-topdown\", config={\"use_render\": False, \"horizon\": 100})\n",
    "# horizon is the max number of steps in a trajectory\n",
    "def random_policy(obs:npt.NDArray) -> int:\n",
    "    \"\"\"\n",
    "    A random policy that returns a random action\n",
    "    \"\"\"\n",
    "    return np.random.randint(0, NUM_ACTIONS)\n",
    "\n",
    "obs, actions, rewards = collect_trajectory(env, random_policy)\n",
    "\n",
    "# print the first 10 actions and rewards\n",
    "print(\"Actions:\", actions[:10])\n",
    "print(\"Rewards:\", rewards[:10])\n",
    "env.close()"
   ]
  },
  {
   "attachments": {},
   "cell_type": "markdown",
   "metadata": {},
   "source": [
    "## Reward-to-go (Contains Exercise)\n",
    "\n",
    "Our `collect_trajectory` function allows us to gather rewards from the trajectory. However, recall that what we'll actually train the network on is the reward-to-go. Let's now create the function `reward_to_go` to compute the reward-to-go for each timestep in the trajectory."
   ]
  },
  {
   "cell_type": "code",
   "execution_count": 8,
   "metadata": {},
   "outputs": [],
   "source": [
    "def rewards_to_go(trajectory_rewards: list[float], gamma) -> list[float]:\n",
    "    \"\"\"\n",
    "    Computes the gamma discounted reward-to-go for each state in the trajectory.\n",
    "    \"\"\"\n",
    "    # TODO: Implement this function\n",
    "    raise NotImplementedError()"
   ]
  },
  {
   "attachments": {},
   "cell_type": "markdown",
   "metadata": {},
   "source": [
    "## Policy Network (Contains Exercise)\n",
    "\n",
    "So, now that we have a function that lets us go from policies to trajectories, we should work on creating a neural network based policy. The network should take in an observation, and return a probability for each number between 0 and 9.\n",
    "\n",
    "We're going to keep the network fairly small for now."
   ]
  },
  {
   "cell_type": "code",
   "execution_count": 9,
   "metadata": {},
   "outputs": [],
   "source": [
    "class PolicyNetwork(nn.Module):\n",
    "    def __init__(self):\n",
    "        super().__init__()\n",
    "\n",
    "        #########################################################################################\n",
    "        # TODO: Implement a Policy Network\n",
    "        # Architecture:\n",
    "        # Layer 1 - Convolutional Layer, kernel size 8, stride 4, output channels 16\n",
    "        # Layer 2 - Convolutional Layer, kernel size 4, stride 2, output channels 32\n",
    "        # Layer 3 - Fully Connected Layer, output size 256\n",
    "        # Layer 4 - Fully Connected Layer, output size NUM_ACTIONS\n",
    "\n",
    "        raise NotImplementedError()\n",
    "\n",
    "        #########################################################################################\n",
    "\n",
    "    def forward(self, x: torch.Tensor) -> torch.distributions.Categorical:\n",
    "        #########################################################################################\n",
    "        # TODO: Implement the forward pass of the Policy Network\n",
    "        # Hint: Use logits when constructing the Categorical distribution\n",
    "\n",
    "        raise NotImplementedError()\n",
    "    \n",
    "        #########################################################################################"
   ]
  },
  {
   "attachments": {},
   "cell_type": "markdown",
   "metadata": {},
   "source": [
    "There's one minor issue we have to resolve before we can use this network though: [PyTorch's Conv2d module](https://pytorch.org/docs/stable/generated/torch.nn.Conv2d.html) expects the input to be of shape $(N, C_{in}, H_{in}, W_{in})$, where $N$ is the batch size, $C_{in}$ is the number of channels, $H_{in}$ is the height, and $W_{in}$ is the width. However, our observation is of shape $(H_{in}, W_{in}, C_{in})$. We can fix this by adding a batch dimension and then using the [Permute](https://pytorch.org/docs/stable/generated/torch.permute.html) module. "
   ]
  },
  {
   "cell_type": "code",
   "execution_count": 10,
   "metadata": {},
   "outputs": [],
   "source": [
    "def obs_batch_to_tensor(obs: list[npt.NDArray[np.float32]], device: torch.device) -> torch.Tensor:\n",
    "    \"\"\"\n",
    "    Reshape the image observation from (B, H, W, C) to (B, C, H, W) and convert it to a tensor\n",
    "    \"\"\"\n",
    "    return torch.tensor(np.stack(obs), dtype=torch.float32, device=device).permute(0, 3, 1, 2)"
   ]
  },
  {
   "attachments": {},
   "cell_type": "markdown",
   "metadata": {},
   "source": [
    "Let's define a policy function that allows us to sample an action:"
   ]
  },
  {
   "cell_type": "code",
   "execution_count": 11,
   "metadata": {},
   "outputs": [],
   "source": [
    "def deviceof(m: nn.Module) -> torch.device:\n",
    "    \"\"\"\n",
    "    Get the device of the given module\n",
    "    \"\"\"\n",
    "    return next(m.parameters()).device\n",
    "\n",
    "class NNPolicy:\n",
    "    \"\"\"\n",
    "    A policy based on a neural network \n",
    "    \"\"\"\n",
    "\n",
    "    def __init__(self, net:PolicyNetwork):\n",
    "        self.net = net\n",
    "\n",
    "    def __call__(self, obs:npt.NDArray) -> int:\n",
    "        # convert observation to a tensor\n",
    "        obs_tensor = obs_batch_to_tensor([obs], deviceof(self.net))\n",
    "        # sample an action from the policy network\n",
    "        with torch.no_grad():\n",
    "            return self.net(obs_tensor).sample().item()"
   ]
  },
  {
   "attachments": {},
   "cell_type": "markdown",
   "metadata": {},
   "source": [
    "Let's test it out (untrained)"
   ]
  },
  {
   "cell_type": "code",
   "execution_count": null,
   "metadata": {},
   "outputs": [],
   "source": [
    "env = gym.make(\"MetaDrive-topdown\", config={\"use_render\": False, \"horizon\": 100})\n",
    "\n",
    "# create a policy network\n",
    "policy_network = PolicyNetwork()\n",
    "\n",
    "# create a policy that samples from the policy network\n",
    "policy = NNPolicy(policy_network)\n",
    "\n",
    "# collect a trajectory using our untrained network\n",
    "obs, actions, rewards = collect_trajectory(env, policy)\n",
    "\n",
    "# print the first 10 actions and rewards\n",
    "print(\"Actions:\", actions[:10])\n",
    "print(\"Rewards:\", rewards[:10])\n",
    "\n",
    "env.close()\n",
    "\n",
    "# free up memory\n",
    "del policy\n",
    "del policy_network"
   ]
  },
  {
   "attachments": {},
   "cell_type": "markdown",
   "metadata": {},
   "source": [
    "As you can see, it performs basically random actions, since it hasn't been trained yet."
   ]
  },
  {
   "attachments": {},
   "cell_type": "markdown",
   "metadata": {},
   "source": [
    "## Computing the Policy Gradient (Contains Exercise)\n",
    "\n",
    "Let's now work on the meat of the problem: computing the policy gradient"
   ]
  },
  {
   "cell_type": "code",
   "execution_count": 13,
   "metadata": {},
   "outputs": [],
   "source": [
    "@dataclass\n",
    "class PolicyGradientConfig:\n",
    "    entropy_bonus: float\n",
    "\n",
    "def compute_policy_gradient_loss(\n",
    "    # Current policy network's probability of choosing an action\n",
    "    # inner shape = (Batch, Action)\n",
    "    pi_theta_given_st: torch.distributions.Categorical,\n",
    "    # Which action was chosen\n",
    "    # in (Batch,)\n",
    "    a_t: torch.Tensor,\n",
    "    # Rewards To Go for the chosen action\n",
    "    # in (Batch,)\n",
    "    R_t: torch.Tensor,\n",
    "    # config\n",
    "    config: PolicyGradientConfig,\n",
    ") -> torch.Tensor:\n",
    "    r\"\"\"\n",
    "    Computes the policy gradient loss for a vector of examples, and reduces with mean.\n",
    "\n",
    "    The standard policy gradient is given by the expected value over trajectories of:\n",
    "\n",
    "    :math:`\\sum_{t=0}^{T} \\nabla_{\\theta} (\\log \\pi_{\\theta}(a_t|s_t))R_t`\n",
    "    \n",
    "    where:\n",
    "    * :math:`\\pi_{\\theta}(a_t|s_t)` is the current policy's probability to perform action :math:`a_t` given :math:`s_t`\n",
    "    * :math:`R_t` is the rewards-to-go from the state at time t to the end of the episode from which it came.\n",
    "    \"\"\"\n",
    "\n",
    "    ################################################################################################\n",
    "    # TODO: Implement the policy gradient loss\n",
    "    # Hint: Recall that the policy gradient for a single transition (state-action pair) is given by:\n",
    "    # $\\nabla_{\\theta} \\log \\pi_{\\theta}(a_t|s_t)R_t$\n",
    "    # However, it's easier to work with losses, rather than raw gradients.\n",
    "    # Therefore we construct a loss, that when differentiated, gives us the policy gradient.\n",
    "    # this loss is given by: $-\\log \\pi_{\\theta}(a_t|s_t)R_t$\n",
    "    # Hint: use the log_prob method of the Categorical distribution to get the log probability of the chosen action\n",
    "\n",
    "    raise NotImplementedError()\n",
    "\n",
    "    ################################################################################################\n",
    "\n",
    "\n",
    "def train_policygradient(\n",
    "    policy_network: PolicyNetwork,\n",
    "    policy_optimizer: torch.optim.Optimizer,\n",
    "    observation_batch: list[npt.NDArray],\n",
    "    action_batch: list[int],\n",
    "    rtg_batch: list[float],\n",
    "    config: PolicyGradientConfig,\n",
    ") -> float:\n",
    "    # assert that the batch_lengths are the same\n",
    "    assert len(observation_batch) == len(action_batch)\n",
    "    assert len(observation_batch) == len(rtg_batch)\n",
    "\n",
    "    # get device\n",
    "    device = deviceof(policy_network)\n",
    "\n",
    "    # convert data to tensors on correct device\n",
    "\n",
    "    # in (Batch, C, H, W)\n",
    "    observation_batch_tensor = obs_batch_to_tensor(observation_batch, device)\n",
    "\n",
    "    # in (Batch,)\n",
    "    rtg_batch_tensor = torch.tensor(\n",
    "        rtg_batch, dtype=torch.float32, device=device\n",
    "    )\n",
    "\n",
    "    # in (Batch,)\n",
    "    chosen_action_tensor = torch.tensor(action_batch, dtype=torch.long, device=device)\n",
    "\n",
    "    # train policy network\n",
    "    policy_optimizer.zero_grad()\n",
    "    action_probs = policy_network.forward(observation_batch_tensor)\n",
    "    policy_loss = compute_policy_gradient_loss(\n",
    "        action_probs, chosen_action_tensor, rtg_batch_tensor, config\n",
    "    )\n",
    "    policy_loss.backward()\n",
    "    policy_optimizer.step()\n",
    "\n",
    "    # return the respective losses\n",
    "    return policy_loss.item()\n"
   ]
  },
  {
   "attachments": {},
   "cell_type": "markdown",
   "metadata": {},
   "source": [
    "## Training the Policy Network\n",
    "\n",
    "With that, we're done. Let's train!"
   ]
  },
  {
   "cell_type": "code",
   "execution_count": 14,
   "metadata": {},
   "outputs": [],
   "source": [
    "# disable logging from metadrive\n",
    "import logging\n",
    "import inspect\n",
    "import metadrive.envs.top_down_env\n",
    "logging.getLogger(inspect.getfile(metadrive.envs.base_env)).setLevel(logging.WARNING)"
   ]
  },
  {
   "cell_type": "code",
   "execution_count": 15,
   "metadata": {},
   "outputs": [],
   "source": [
    "def set_lr(optimizer: torch.optim.Optimizer, lr: float) -> None:\n",
    "    for param_group in optimizer.param_groups:\n",
    "        param_group['lr'] = lr\n",
    "\n",
    "device = torch.device(\"cuda\" if torch.cuda.is_available() else \"cpu\")\n",
    "\n",
    "policy_network = PolicyNetwork().to(device)\n",
    "\n",
    "policy_optimizer = torch.optim.Adam(policy_network.parameters())\n",
    "\n",
    "policy = NNPolicy(policy_network)\n",
    "\n",
    "step = 0\n",
    "returns = []\n",
    "losses = []"
   ]
  },
  {
   "cell_type": "code",
   "execution_count": 16,
   "metadata": {},
   "outputs": [],
   "source": [
    "env = gym.make(\"MetaDrive-topdown\", config={\"use_render\": False, \"horizon\": 100, \"num_scenarios\": 100})"
   ]
  },
  {
   "attachments": {},
   "cell_type": "markdown",
   "metadata": {},
   "source": [
    "This code takes a long time to run, but the low learning rate and high batch sizes are a necessity for training REINFORCE. You should leave this code running for about an hour. Don't be surprised if it takes a long time for rewards to creep over 3.0."
   ]
  },
  {
   "cell_type": "code",
   "execution_count": 17,
   "metadata": {},
   "outputs": [
    {
     "name": "stderr",
     "output_type": "stream",
     "text": [
      ":task(warning): Creating implicit AsyncTaskChain default for AsyncTaskManager TaskManager\n"
     ]
    },
    {
     "name": "stdout",
     "output_type": "stream",
     "text": [
      "Step 0, Avg. Returns: 1.274 +/- 0.431, Median: 1.193, Policy Loss: -0.081\n",
      "Step 1, Avg. Returns: 1.418 +/- 0.740, Median: 1.391, Policy Loss: -0.072\n",
      "Step 2, Avg. Returns: 1.184 +/- 0.617, Median: 1.121, Policy Loss: -0.087\n",
      "Step 3, Avg. Returns: 1.462 +/- 0.444, Median: 1.426, Policy Loss: -0.070\n",
      "Step 4, Avg. Returns: 1.539 +/- 0.496, Median: 1.514, Policy Loss: -0.065\n",
      "Step 5, Avg. Returns: 1.679 +/- 0.584, Median: 1.498, Policy Loss: -0.056\n",
      "Step 6, Avg. Returns: 1.482 +/- 0.586, Median: 1.483, Policy Loss: -0.069\n",
      "Step 7, Avg. Returns: 1.762 +/- 0.663, Median: 1.619, Policy Loss: -0.051\n",
      "Step 8, Avg. Returns: 1.547 +/- 0.585, Median: 1.480, Policy Loss: -0.065\n",
      "Step 9, Avg. Returns: 1.496 +/- 1.080, Median: 1.286, Policy Loss: -0.068\n",
      "Step 10, Avg. Returns: 1.877 +/- 0.736, Median: 1.840, Policy Loss: -0.046\n",
      "Step 11, Avg. Returns: 2.077 +/- 0.799, Median: 2.036, Policy Loss: -0.033\n",
      "Step 12, Avg. Returns: 1.701 +/- 0.605, Median: 1.477, Policy Loss: -0.057\n",
      "Step 13, Avg. Returns: 2.028 +/- 0.686, Median: 1.921, Policy Loss: -0.037\n",
      "Step 14, Avg. Returns: 1.988 +/- 0.772, Median: 1.856, Policy Loss: -0.040\n",
      "Step 15, Avg. Returns: 2.443 +/- 0.948, Median: 2.274, Policy Loss: -0.013\n",
      "Step 16, Avg. Returns: 2.431 +/- 0.888, Median: 2.422, Policy Loss: -0.014\n",
      "Step 17, Avg. Returns: 2.223 +/- 0.862, Median: 2.005, Policy Loss: -0.026\n",
      "Step 18, Avg. Returns: 2.563 +/- 0.829, Median: 2.479, Policy Loss: -0.007\n",
      "Step 19, Avg. Returns: 2.784 +/- 0.821, Median: 2.803, Policy Loss: 0.006\n",
      "Step 20, Avg. Returns: 2.482 +/- 0.979, Median: 2.399, Policy Loss: -0.012\n",
      "Step 21, Avg. Returns: 3.360 +/- 0.995, Median: 3.217, Policy Loss: 0.038\n",
      "Step 22, Avg. Returns: 3.364 +/- 1.652, Median: 3.246, Policy Loss: 0.038\n",
      "Step 23, Avg. Returns: 2.739 +/- 1.052, Median: 2.895, Policy Loss: 0.002\n",
      "Step 24, Avg. Returns: 3.455 +/- 1.606, Median: 2.995, Policy Loss: 0.039\n",
      "Step 25, Avg. Returns: 4.098 +/- 1.178, Median: 3.908, Policy Loss: 0.078\n",
      "Step 26, Avg. Returns: 3.943 +/- 1.875, Median: 3.945, Policy Loss: 0.066\n",
      "Step 27, Avg. Returns: 4.104 +/- 1.618, Median: 4.035, Policy Loss: 0.081\n",
      "Step 28, Avg. Returns: 4.137 +/- 2.323, Median: 4.390, Policy Loss: 0.084\n",
      "Step 29, Avg. Returns: 5.769 +/- 2.802, Median: 4.616, Policy Loss: 0.163\n",
      "Step 30, Avg. Returns: 5.004 +/- 2.364, Median: 4.800, Policy Loss: 0.125\n",
      "Step 31, Avg. Returns: 5.959 +/- 3.192, Median: 5.456, Policy Loss: 0.173\n",
      "Step 32, Avg. Returns: 7.089 +/- 4.420, Median: 6.375, Policy Loss: 0.237\n",
      "Step 33, Avg. Returns: 6.883 +/- 4.442, Median: 6.606, Policy Loss: 0.223\n",
      "Step 34, Avg. Returns: 7.172 +/- 3.898, Median: 7.117, Policy Loss: 0.248\n",
      "Step 35, Avg. Returns: 9.872 +/- 6.697, Median: 8.495, Policy Loss: 0.368\n",
      "Step 36, Avg. Returns: 9.365 +/- 6.328, Median: 6.355, Policy Loss: 0.364\n",
      "Step 37, Avg. Returns: 11.503 +/- 7.568, Median: 10.363, Policy Loss: 0.471\n",
      "Step 38, Avg. Returns: 13.342 +/- 10.145, Median: 9.631, Policy Loss: 0.552\n",
      "Step 39, Avg. Returns: 15.600 +/- 9.769, Median: 15.264, Policy Loss: 0.695\n",
      "Step 40, Avg. Returns: 17.876 +/- 13.929, Median: 14.179, Policy Loss: 0.757\n",
      "Step 41, Avg. Returns: 21.780 +/- 8.328, Median: 20.517, Policy Loss: 0.952\n",
      "Step 42, Avg. Returns: 19.974 +/- 13.416, Median: 19.793, Policy Loss: 0.914\n",
      "Step 43, Avg. Returns: 25.590 +/- 16.930, Median: 26.594, Policy Loss: 1.261\n",
      "Step 44, Avg. Returns: 24.644 +/- 21.342, Median: 20.927, Policy Loss: 1.222\n",
      "Step 45, Avg. Returns: 31.430 +/- 20.134, Median: 23.211, Policy Loss: 1.305\n",
      "Step 46, Avg. Returns: 40.744 +/- 21.024, Median: 40.887, Policy Loss: 1.755\n",
      "Step 47, Avg. Returns: 31.127 +/- 18.163, Median: 36.269, Policy Loss: 1.491\n",
      "Step 48, Avg. Returns: 35.278 +/- 22.462, Median: 34.464, Policy Loss: 1.551\n",
      "Step 49, Avg. Returns: 38.453 +/- 21.445, Median: 44.948, Policy Loss: 1.690\n",
      "Step 50, Avg. Returns: 40.475 +/- 15.372, Median: 41.799, Policy Loss: 1.655\n",
      "Step 51, Avg. Returns: 44.388 +/- 21.288, Median: 45.028, Policy Loss: 1.896\n",
      "Step 52, Avg. Returns: 40.492 +/- 23.513, Median: 39.880, Policy Loss: 1.675\n",
      "Step 53, Avg. Returns: 42.698 +/- 20.051, Median: 42.882, Policy Loss: 1.797\n",
      "Step 54, Avg. Returns: 34.564 +/- 24.046, Median: 30.773, Policy Loss: 1.531\n",
      "Step 55, Avg. Returns: 41.550 +/- 24.842, Median: 44.489, Policy Loss: 1.794\n",
      "Step 56, Avg. Returns: 38.080 +/- 23.562, Median: 43.898, Policy Loss: 1.671\n",
      "Step 57, Avg. Returns: 41.090 +/- 20.807, Median: 46.652, Policy Loss: 1.805\n",
      "Step 58, Avg. Returns: 40.658 +/- 24.589, Median: 47.941, Policy Loss: 1.756\n",
      "Step 59, Avg. Returns: 33.801 +/- 22.075, Median: 32.490, Policy Loss: 1.520\n",
      "Step 60, Avg. Returns: 38.396 +/- 23.918, Median: 37.815, Policy Loss: 1.689\n",
      "Step 61, Avg. Returns: 41.510 +/- 22.456, Median: 40.166, Policy Loss: 1.811\n",
      "Step 62, Avg. Returns: 38.710 +/- 24.514, Median: 43.231, Policy Loss: 1.756\n",
      "Step 63, Avg. Returns: 42.905 +/- 20.037, Median: 43.185, Policy Loss: 1.791\n",
      "Step 64, Avg. Returns: 44.599 +/- 19.113, Median: 44.548, Policy Loss: 1.929\n",
      "Step 65, Avg. Returns: 33.804 +/- 24.228, Median: 32.531, Policy Loss: 1.565\n",
      "Step 66, Avg. Returns: 35.785 +/- 16.549, Median: 34.335, Policy Loss: 1.600\n",
      "Step 67, Avg. Returns: 36.588 +/- 18.930, Median: 38.185, Policy Loss: 1.632\n",
      "Step 68, Avg. Returns: 39.163 +/- 16.489, Median: 37.851, Policy Loss: 1.638\n",
      "Step 69, Avg. Returns: 28.758 +/- 18.307, Median: 27.975, Policy Loss: 1.300\n",
      "Step 70, Avg. Returns: 25.102 +/- 19.317, Median: 24.037, Policy Loss: 1.166\n",
      "Step 71, Avg. Returns: 39.308 +/- 15.617, Median: 42.213, Policy Loss: 1.625\n",
      "Step 72, Avg. Returns: 32.841 +/- 17.382, Median: 31.667, Policy Loss: 1.398\n",
      "Step 73, Avg. Returns: 32.254 +/- 13.167, Median: 30.596, Policy Loss: 1.417\n",
      "Step 74, Avg. Returns: 28.901 +/- 17.013, Median: 29.566, Policy Loss: 1.320\n",
      "Step 75, Avg. Returns: 29.223 +/- 17.697, Median: 28.195, Policy Loss: 1.381\n",
      "Step 76, Avg. Returns: 30.945 +/- 19.306, Median: 26.168, Policy Loss: 1.388\n",
      "Step 77, Avg. Returns: 29.982 +/- 15.930, Median: 30.767, Policy Loss: 1.348\n",
      "Step 78, Avg. Returns: 25.127 +/- 14.430, Median: 25.418, Policy Loss: 1.131\n",
      "Step 79, Avg. Returns: 22.729 +/- 14.906, Median: 23.302, Policy Loss: 1.101\n",
      "Step 80, Avg. Returns: 34.997 +/- 19.200, Median: 35.014, Policy Loss: 1.506\n",
      "Step 81, Avg. Returns: 31.390 +/- 16.450, Median: 32.382, Policy Loss: 1.447\n",
      "Step 82, Avg. Returns: 27.398 +/- 15.176, Median: 25.308, Policy Loss: 1.215\n",
      "Step 83, Avg. Returns: 31.284 +/- 18.013, Median: 28.280, Policy Loss: 1.385\n",
      "Step 84, Avg. Returns: 30.838 +/- 12.782, Median: 29.096, Policy Loss: 1.369\n",
      "Step 85, Avg. Returns: 37.331 +/- 22.449, Median: 32.706, Policy Loss: 1.634\n",
      "Step 86, Avg. Returns: 27.267 +/- 15.902, Median: 25.506, Policy Loss: 1.224\n",
      "Step 87, Avg. Returns: 30.224 +/- 16.364, Median: 28.656, Policy Loss: 1.354\n",
      "Step 88, Avg. Returns: 35.631 +/- 19.394, Median: 33.702, Policy Loss: 1.591\n",
      "Step 89, Avg. Returns: 30.842 +/- 16.543, Median: 28.302, Policy Loss: 1.406\n",
      "Step 90, Avg. Returns: 35.077 +/- 19.824, Median: 36.831, Policy Loss: 1.567\n",
      "Step 91, Avg. Returns: 36.725 +/- 14.552, Median: 37.507, Policy Loss: 1.555\n",
      "Step 92, Avg. Returns: 33.265 +/- 18.976, Median: 31.205, Policy Loss: 1.504\n",
      "Step 93, Avg. Returns: 36.231 +/- 15.764, Median: 36.953, Policy Loss: 1.548\n",
      "Step 94, Avg. Returns: 32.623 +/- 18.059, Median: 34.471, Policy Loss: 1.504\n",
      "Step 95, Avg. Returns: 33.945 +/- 19.663, Median: 31.947, Policy Loss: 1.576\n",
      "Step 96, Avg. Returns: 36.691 +/- 19.986, Median: 41.280, Policy Loss: 1.625\n",
      "Step 97, Avg. Returns: 36.029 +/- 18.946, Median: 36.444, Policy Loss: 1.590\n",
      "Step 98, Avg. Returns: 32.283 +/- 19.662, Median: 29.623, Policy Loss: 1.451\n",
      "Step 99, Avg. Returns: 41.676 +/- 18.888, Median: 42.003, Policy Loss: 1.824\n"
     ]
    }
   ],
   "source": [
    "set_lr(policy_optimizer, 1e-4)\n",
    "TRAIN_EPOCHS = 100\n",
    "EPISODES_PER_BATCH = 32\n",
    "GAMMA = 0.75\n",
    "CONFIG = PolicyGradientConfig(entropy_bonus=0.10)\n",
    "\n",
    "# Train\n",
    "while step < TRAIN_EPOCHS:\n",
    "    obs_batch:list[npt.NDArray[np.float32]] = []\n",
    "    act_batch:list[int] = []\n",
    "    rtg_batch:list[float] = []\n",
    "    \n",
    "    trajectory_returns = []\n",
    "\n",
    "    for _ in range(EPISODES_PER_BATCH):\n",
    "        # Collect trajectory\n",
    "        obs_traj, act_traj, rew_traj = collect_trajectory(env, policy)\n",
    "        rtg_traj = rewards_to_go(rew_traj, GAMMA)\n",
    "\n",
    "        # Update batch\n",
    "        obs_batch.extend(obs_traj)\n",
    "        act_batch.extend(act_traj)\n",
    "        rtg_batch.extend(rtg_traj)\n",
    "\n",
    "        # Update trajectory returns\n",
    "        trajectory_returns.append(sum(rew_traj))\n",
    "\n",
    "    loss = train_policygradient(\n",
    "        policy_network,\n",
    "        policy_optimizer,\n",
    "        obs_batch,\n",
    "        act_batch,\n",
    "        rtg_batch,\n",
    "        CONFIG,\n",
    "    )\n",
    "\n",
    "    # collect statistics\n",
    "    returns.append(trajectory_returns)\n",
    "    losses.append(loss)\n",
    "\n",
    "    print(f\"Step {step}, Avg. Returns: {np.mean(trajectory_returns):.3f} +/- {np.std(trajectory_returns):.3f}, Median: {np.median(trajectory_returns):.3f}, Policy Loss: {losses[-1]:.3f}\")\n",
    "\n",
    "    step += 1"
   ]
  },
  {
   "cell_type": "code",
   "execution_count": 18,
   "metadata": {},
   "outputs": [],
   "source": [
    "env.close()"
   ]
  },
  {
   "attachments": {},
   "cell_type": "markdown",
   "metadata": {},
   "source": [
    "Let's visualize how the policy drives:"
   ]
  },
  {
   "cell_type": "code",
   "execution_count": 19,
   "metadata": {},
   "outputs": [
    {
     "name": "stderr",
     "output_type": "stream",
     "text": [
      "Known pipe types:\n",
      "  glxGraphicsPipe\n",
      "(1 aux display modules not yet loaded.)\n",
      ":task(warning): Creating implicit AsyncTaskChain default for AsyncTaskManager TaskManager\n"
     ]
    },
    {
     "name": "stdout",
     "output_type": "stream",
     "text": [
      "Reward: 11.85472863635404\n"
     ]
    }
   ],
   "source": [
    "env = gym.make(\"MetaDrive-topdown\", config={\"use_render\": True, \"horizon\": 500, \"num_scenarios\": 100})\n",
    "obs, act, rew = collect_trajectory(env, policy)\n",
    "env.close()\n",
    "\n",
    "print(\"Reward:\", sum(rew))"
   ]
  },
  {
   "attachments": {},
   "cell_type": "markdown",
   "metadata": {},
   "source": [
    "For us, we got returns of around 40-50 after training."
   ]
  },
  {
   "cell_type": "code",
   "execution_count": 20,
   "metadata": {},
   "outputs": [
    {
     "data": {
      "image/png": "[encoded data removed]",
      "text/plain": [
       "<Figure size 640x480 with 1 Axes>"
      ]
     },
     "metadata": {},
     "output_type": "display_data"
    }
   ],
   "source": [
    "import matplotlib.pyplot as plt\n",
    "return_medians = [np.median(returns[i]) for i in range(len(returns))]\n",
    "return_means = [np.mean(returns[i]) for i in range(len(returns))]\n",
    "return_stds = [np.std(returns[i]) for i in range(len(returns))]\n",
    "plt.plot(return_medians, label=\"Median\")\n",
    "plt.plot(return_means, label=\"Mean\")\n",
    "plt.fill_between(range(len(return_means)), np.array(return_means) - np.array(return_stds), np.array(return_means) + np.array(return_stds), alpha=0.3)\n",
    "plt.xlabel(\"Epoch\")\n",
    "plt.ylabel(\"Average Return\")\n",
    "plt.legend()\n",
    "plt.show()"
   ]
  }
 ],
 "metadata": {
  "kernelspec": {
   "display_name": "metadrive",
   "language": "python",
   "name": "python3"
  },
  "language_info": {
   "codemirror_mode": {
    "name": "ipython",
    "version": 3
   },
   "file_extension": ".py",
   "mimetype": "text/x-python",
   "name": "python",
   "nbconvert_exporter": "python",
   "pygments_lexer": "ipython3",
   "version": "3.11.3"
  },
  "orig_nbformat": 4
 },
 "nbformat": 4,
 "nbformat_minor": 2
}
